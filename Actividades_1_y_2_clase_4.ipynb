{
  "nbformat": 4,
  "nbformat_minor": 0,
  "metadata": {
    "colab": {
      "provenance": []
    },
    "kernelspec": {
      "name": "python3",
      "display_name": "Python 3"
    },
    "language_info": {
      "name": "python"
    }
  },
  "cells": [
    {
      "cell_type": "code",
      "execution_count": 4,
      "metadata": {
        "colab": {
          "base_uri": "https://localhost:8080/"
        },
        "id": "EVfKI2nHnqB5",
        "outputId": "0d04729c-a6c3-456f-a8fe-93fd6b481770"
      },
      "outputs": [
        {
          "output_type": "stream",
          "name": "stdout",
          "text": [
            "ingresa tu nombre: lorena\n",
            "hola lorena\n"
          ]
        }
      ],
      "source": [
        "mi_nombre = input(\"ingresa tu nombre: \")\n",
        "print(\"hola\", mi_nombre)"
      ]
    },
    {
      "cell_type": "code",
      "source": [
        "lado = 4.5\n",
        "valor_porcion_pizza = 6.000\n",
        "multiplicación = 10 * 25"
      ],
      "metadata": {
        "id": "bY5T8rAtpYTP"
      },
      "execution_count": 5,
      "outputs": []
    },
    {
      "cell_type": "code",
      "source": [
        "print(4.5**2)\n",
        "\n",
        "print(6000*35)\n",
        "print(10*25)"
      ],
      "metadata": {
        "colab": {
          "base_uri": "https://localhost:8080/"
        },
        "id": "JGFsOB27yzFZ",
        "outputId": "474a898c-bff0-47db-b2e3-0a93aa9847b6"
      },
      "execution_count": 6,
      "outputs": [
        {
          "output_type": "stream",
          "name": "stdout",
          "text": [
            "20.25\n",
            "210000\n",
            "250\n"
          ]
        }
      ]
    },
    {
      "cell_type": "code",
      "source": [
        "Numero1 = 15\n",
        "Numero2 = 35\n",
        "multiplicación = Numero1 * Numero2\n",
        "print(\"la multiplicacion es\", multiplicación)"
      ],
      "metadata": {
        "colab": {
          "base_uri": "https://localhost:8080/"
        },
        "id": "ZrPC8g4azlee",
        "outputId": "9d9ce705-c3f6-4ac7-be1e-c9578b606d0f"
      },
      "execution_count": 7,
      "outputs": [
        {
          "output_type": "stream",
          "name": "stdout",
          "text": [
            "la multiplicacion es 525\n"
          ]
        }
      ]
    },
    {
      "cell_type": "code",
      "source": [
        "round(number=30.52,ndigits=0)"
      ],
      "metadata": {
        "colab": {
          "base_uri": "https://localhost:8080/"
        },
        "id": "4P1jElgqQwwc",
        "outputId": "19c40821-57a2-4a98-c987-ea826fb7efd1"
      },
      "execution_count": 8,
      "outputs": [
        {
          "output_type": "execute_result",
          "data": {
            "text/plain": [
              "31.0"
            ]
          },
          "metadata": {},
          "execution_count": 8
        }
      ]
    },
    {
      "cell_type": "code",
      "source": [
        "precio_original = 99.4\n",
        "precio_redondeado = round(precio_original)\n",
        "precio_entero = int(precio_original)\n",
        "print(f\"precio redondeado: {precio_redondeado}\")\n",
        "print(f\"precio entero: {precio_entero}\")"
      ],
      "metadata": {
        "colab": {
          "base_uri": "https://localhost:8080/"
        },
        "id": "O3i8vgTIRlFT",
        "outputId": "c969dd73-71c8-43fe-dc33-591c2cd6a040"
      },
      "execution_count": 9,
      "outputs": [
        {
          "output_type": "stream",
          "name": "stdout",
          "text": [
            "precio redondeado: 99\n",
            "precio entero: 99\n"
          ]
        }
      ]
    },
    {
      "cell_type": "code",
      "source": [
        "inventario = [\n",
        "              {\"producto\":\"pant\", \"price\":65000, \"stock\": \"15\"},\n",
        "              {\"producto\":\"t-shirt\", \"price\":45000, \"stock\":\"20\"},\n",
        "              {\"producto\":\"coat\", \"price\":82000, \"stock\":\"15\"},\n",
        "              {\"producto\":\"dress\", \"price\":130000, \"stock\":\"35\"}]\n"
      ],
      "metadata": {
        "id": "6KG7aAkpQx2m"
      },
      "execution_count": 10,
      "outputs": []
    },
    {
      "cell_type": "code",
      "source": [
        "## agregar un producto nuevo al stock del inventario\n",
        "\n",
        "## 1. Acceda el inventario (Recorrer la lista)\n",
        "## 2. Acceda al diccionario que hay en cada posicion\n",
        "## 3. Tome la llave stock y convierta su valor a entero\n",
        "## 4. Reasigne el nuevo valor (entero) a la llave de stock para que se actualice\n",
        "\n",
        "nuevo_producto = {\"producto\":\"sweter\", \"price\":50000, \"stock\": \"45\"}\n",
        "inventario.append(nuevo_producto)"
      ],
      "metadata": {
        "id": "1xW1r3IgdopW"
      },
      "execution_count": 11,
      "outputs": []
    },
    {
      "cell_type": "code",
      "source": [
        "inventario"
      ],
      "metadata": {
        "colab": {
          "base_uri": "https://localhost:8080/"
        },
        "id": "HbmHXLEreaAi",
        "outputId": "a08918e0-d2c7-4de1-f0b9-6f050bdb3601"
      },
      "execution_count": 12,
      "outputs": [
        {
          "output_type": "execute_result",
          "data": {
            "text/plain": [
              "[{'producto': 'pant', 'price': 65000, 'stock': '15'},\n",
              " {'producto': 't-shirt', 'price': 45000, 'stock': '20'},\n",
              " {'producto': 'coat', 'price': 82000, 'stock': '15'},\n",
              " {'producto': 'dress', 'price': 130000, 'stock': '35'},\n",
              " {'producto': 'sweter', 'price': 50000, 'stock': '45'}]"
            ]
          },
          "metadata": {},
          "execution_count": 12
        }
      ]
    },
    {
      "cell_type": "code",
      "source": [
        "primer_producto = inventario[0]\n",
        "primer_producto['stock'] = int(primer_producto.get(\"stock\"))\n",
        "primer_producto\n",
        "\n",
        "segundo_producto = inventario[1]\n",
        "segundo_producto['stock'] = int(primer_producto.get(\"stock\"))\n",
        "segundo_producto"
      ],
      "metadata": {
        "colab": {
          "base_uri": "https://localhost:8080/"
        },
        "id": "_X6uHs7sepnd",
        "outputId": "900e9250-32f0-4cfb-e58c-dc321b5da316"
      },
      "execution_count": 13,
      "outputs": [
        {
          "output_type": "execute_result",
          "data": {
            "text/plain": [
              "{'producto': 't-shirt', 'price': 45000, 'stock': 15}"
            ]
          },
          "metadata": {},
          "execution_count": 13
        }
      ]
    },
    {
      "cell_type": "code",
      "source": [
        "##convertir stock en numero entero\n",
        "\n",
        "for producto in inventario:\n",
        "  primer_producto['stock'] = int(primer_producto.get(\"stock\"))\n",
        "inventario"
      ],
      "metadata": {
        "colab": {
          "base_uri": "https://localhost:8080/"
        },
        "id": "80ehcLIKgf_h",
        "outputId": "ce3b713b-97ce-4c56-c7d8-3d124adfa8ad"
      },
      "execution_count": 14,
      "outputs": [
        {
          "output_type": "execute_result",
          "data": {
            "text/plain": [
              "[{'producto': 'pant', 'price': 65000, 'stock': 15},\n",
              " {'producto': 't-shirt', 'price': 45000, 'stock': 15},\n",
              " {'producto': 'coat', 'price': 82000, 'stock': '15'},\n",
              " {'producto': 'dress', 'price': 130000, 'stock': '35'},\n",
              " {'producto': 'sweter', 'price': 50000, 'stock': '45'}]"
            ]
          },
          "metadata": {},
          "execution_count": 14
        }
      ]
    },
    {
      "cell_type": "code",
      "source": [
        "inventario"
      ],
      "metadata": {
        "colab": {
          "base_uri": "https://localhost:8080/"
        },
        "id": "8thVqUgfkUFF",
        "outputId": "f1c586c1-d388-427d-cd55-95ae9eac75b2"
      },
      "execution_count": 15,
      "outputs": [
        {
          "output_type": "execute_result",
          "data": {
            "text/plain": [
              "[{'producto': 'pant', 'price': 65000, 'stock': 15},\n",
              " {'producto': 't-shirt', 'price': 45000, 'stock': 15},\n",
              " {'producto': 'coat', 'price': 82000, 'stock': '15'},\n",
              " {'producto': 'dress', 'price': 130000, 'stock': '35'},\n",
              " {'producto': 'sweter', 'price': 50000, 'stock': '45'}]"
            ]
          },
          "metadata": {},
          "execution_count": 15
        }
      ]
    },
    {
      "cell_type": "code",
      "source": [
        "## otra alternativa para hacer la misma funcion del \"for\", preferiblemente usar for es mas sencillo\n",
        "\n",
        "def cambiar_stock(diccionario):\n",
        "  diccionario['stock'] = int(diccionario.get(\"stock\"))\n",
        "  return diccionario\n",
        "\n",
        "nuevo_inventario = list(map(cambiar_stock,inventario))\n",
        "nuevo_inventario"
      ],
      "metadata": {
        "colab": {
          "base_uri": "https://localhost:8080/"
        },
        "id": "cmKuE148iMDA",
        "outputId": "32cde518-671b-4a40-ef22-6f0a9ba835da"
      },
      "execution_count": 16,
      "outputs": [
        {
          "output_type": "execute_result",
          "data": {
            "text/plain": [
              "[{'producto': 'pant', 'price': 65000, 'stock': 15},\n",
              " {'producto': 't-shirt', 'price': 45000, 'stock': 15},\n",
              " {'producto': 'coat', 'price': 82000, 'stock': 15},\n",
              " {'producto': 'dress', 'price': 130000, 'stock': 35},\n",
              " {'producto': 'sweter', 'price': 50000, 'stock': 45}]"
            ]
          },
          "metadata": {},
          "execution_count": 16
        }
      ]
    },
    {
      "cell_type": "code",
      "source": [
        "## cambiar precio\n",
        "\n",
        "for producto in inventario:\n",
        "  producto['stock'] = int(producto.get(\"stock\"))\n",
        "  producto['price'] = producto.get(\"price\")+ 10000\n",
        "inventario"
      ],
      "metadata": {
        "colab": {
          "base_uri": "https://localhost:8080/"
        },
        "id": "ZwerP_AUlLnV",
        "outputId": "944ba9de-1da8-4534-933e-21d8d9be2651"
      },
      "execution_count": 17,
      "outputs": [
        {
          "output_type": "execute_result",
          "data": {
            "text/plain": [
              "[{'producto': 'pant', 'price': 75000, 'stock': 15},\n",
              " {'producto': 't-shirt', 'price': 55000, 'stock': 15},\n",
              " {'producto': 'coat', 'price': 92000, 'stock': 15},\n",
              " {'producto': 'dress', 'price': 140000, 'stock': 35},\n",
              " {'producto': 'sweter', 'price': 60000, 'stock': 45}]"
            ]
          },
          "metadata": {},
          "execution_count": 17
        }
      ]
    },
    {
      "cell_type": "code",
      "source": [
        "## imprimir hay que asignar variable nueva llamada \"stock\" para que se imprima\n",
        "\n",
        "for producto in inventario:\n",
        "  producto['stock'] = int(producto.get(\"stock\"))\n",
        "  producto['price'] = producto.get(\"price\")+ 10000\n",
        "  stock = producto['stock']\n",
        "  prod = producto['producto']\n",
        "  price = producto['price']\n",
        "  print(f\"Hay {stock} unidades del producto {prod}. Su precio por unidad es de {price}\")\n",
        "inventario"
      ],
      "metadata": {
        "colab": {
          "base_uri": "https://localhost:8080/"
        },
        "id": "VnUpgcNgoQrQ",
        "outputId": "8685a92b-4763-4730-f58b-2101ebb8a5ba"
      },
      "execution_count": 18,
      "outputs": [
        {
          "output_type": "stream",
          "name": "stdout",
          "text": [
            "Hay 15 unidades del producto pant. Su precio por unidad es de 85000\n",
            "Hay 15 unidades del producto t-shirt. Su precio por unidad es de 65000\n",
            "Hay 15 unidades del producto coat. Su precio por unidad es de 102000\n",
            "Hay 35 unidades del producto dress. Su precio por unidad es de 150000\n",
            "Hay 45 unidades del producto sweter. Su precio por unidad es de 70000\n"
          ]
        },
        {
          "output_type": "execute_result",
          "data": {
            "text/plain": [
              "[{'producto': 'pant', 'price': 85000, 'stock': 15},\n",
              " {'producto': 't-shirt', 'price': 65000, 'stock': 15},\n",
              " {'producto': 'coat', 'price': 102000, 'stock': 15},\n",
              " {'producto': 'dress', 'price': 150000, 'stock': 35},\n",
              " {'producto': 'sweter', 'price': 70000, 'stock': 45}]"
            ]
          },
          "metadata": {},
          "execution_count": 18
        }
      ]
    },
    {
      "cell_type": "code",
      "source": [
        "##condicionales\n",
        "\n",
        "mi_numero = int(input(\"ingresa tu numero\"))\n",
        "\n",
        "if mi_numero < 10 or mi_numero > 100: ##la sentencia \"if\" evalua la condicion, en caso de ser verdadero, se ejecuta el bloque de codigo que le sigue\n",
        "  print(\"tu numero es menor a 10 o mayor a 100\")\n",
        "elif mi_numero > 100:\n",
        "  print(\"tu numero es mayor a 100\")\n",
        "elif mi_numero > 60:\n",
        "  print(\"tu numero es mayor a 60\")\n",
        "elif mi_numero > 40:\n",
        "  print(\"tu numero es mayor a 40\")\n",
        "else:\n",
        "  print(\"tu numero esta entre 10 y 100\")"
      ],
      "metadata": {
        "colab": {
          "base_uri": "https://localhost:8080/"
        },
        "id": "v3kXnpfDtUsD",
        "outputId": "5b8892ad-a8cf-46d3-fa5d-a6858106d5c6"
      },
      "execution_count": 19,
      "outputs": [
        {
          "output_type": "stream",
          "name": "stdout",
          "text": [
            "ingresa tu numero25\n",
            "tu numero esta entre 10 y 100\n"
          ]
        }
      ]
    },
    {
      "cell_type": "code",
      "source": [
        "## sentencias de condiciones anidadas\n",
        "\n",
        "\n",
        "mi_numero = int(input(\"ingresa tu numero\"))\n",
        "\n",
        "if mi_numero < 10 or mi_numero > 100: ##la sentencia \"if\" evalua la condicion, en caso de ser verdadero, se ejecuta el bloque de codigo que le sigue\n",
        "  print(\"tu numero es menor a 10 o mayor a 100\")\n",
        "elif mi_numero > 100:\n",
        "\n",
        "  if mi_numero % 2 == 0:\n",
        "    print(\"tu numero es mayor a 100 y es par\")\n",
        "  else:\n",
        "    print(\"tu numero es mayor a 100 y es impar\")\n",
        "\n",
        "elif mi_numero > 60:\n",
        "  print(\"tu numero es mayor a 60\")\n",
        "elif mi_numero > 40:\n",
        "  print(\"tu numero es mayor a 40\")\n",
        "else:\n",
        "  print(\"tu numero esta entre 10 y 100\")"
      ],
      "metadata": {
        "colab": {
          "base_uri": "https://localhost:8080/"
        },
        "id": "L-JAAo6Cw3hb",
        "outputId": "b5f86d3e-0a94-4a92-e5b6-957d9abb8ed6"
      },
      "execution_count": 20,
      "outputs": [
        {
          "output_type": "stream",
          "name": "stdout",
          "text": [
            "ingresa tu numero24\n",
            "tu numero esta entre 10 y 100\n"
          ]
        }
      ]
    },
    {
      "cell_type": "code",
      "source": [
        "### ACTIVIDAD 2"
      ],
      "metadata": {
        "id": "gOp8M001zYXU"
      },
      "execution_count": 21,
      "outputs": []
    },
    {
      "cell_type": "code",
      "source": [
        "### 1. Crea una lista de edades: [12, 17, 8, 15, 22, 9, 30, 25].\n",
        "edades = [12,17,8,15,22,9,30,25]"
      ],
      "metadata": {
        "id": "Ns534Nz0EXfS"
      },
      "execution_count": 22,
      "outputs": []
    },
    {
      "cell_type": "code",
      "source": [
        "### 2. Usa un bucle for para iterar sobre cada edad:\n",
        "edades_lista = [(\"Andrea\",12),(\"Lorena\",17),(\"Edwin\",15),(\"Carlos\",22),(\"Esteban\",9),(\"Juan\",30),(\"Salome\",25)]\n",
        "\n",
        "for item in edades_lista:\n",
        "    print(f\"{item[0]} su edad es de {item[1]} años\")\n",
        "    print(\"-------------------------------------\")"
      ],
      "metadata": {
        "colab": {
          "base_uri": "https://localhost:8080/"
        },
        "id": "cTmHGQGRHFGV",
        "outputId": "9c5908f2-c4f4-4c6b-f91e-b08d07492abf"
      },
      "execution_count": 23,
      "outputs": [
        {
          "output_type": "stream",
          "name": "stdout",
          "text": [
            "Andrea su edad es de 12 años\n",
            "-------------------------------------\n",
            "Lorena su edad es de 17 años\n",
            "-------------------------------------\n",
            "Edwin su edad es de 15 años\n",
            "-------------------------------------\n",
            "Carlos su edad es de 22 años\n",
            "-------------------------------------\n",
            "Esteban su edad es de 9 años\n",
            "-------------------------------------\n",
            "Juan su edad es de 30 años\n",
            "-------------------------------------\n",
            "Salome su edad es de 25 años\n",
            "-------------------------------------\n"
          ]
        }
      ]
    },
    {
      "cell_type": "code",
      "source": [
        "### 3. Si la edad es 25, imprime \"¡Encontramos al estudiante de 25 años! Deteniendo el análisis.\" y termina el bucle con break.\n",
        "\n",
        "for item in edades_lista:\n",
        "    if (item[1] == 25):\n",
        "        print(f\"Encontramos al estudiante de {item[1]} años! Detenido el analisis.\")\n",
        "        break"
      ],
      "metadata": {
        "colab": {
          "base_uri": "https://localhost:8080/"
        },
        "id": "NSrzshOtKmkV",
        "outputId": "ef2faba6-b862-4ba6-fff3-8e5b4d3430fc"
      },
      "execution_count": 24,
      "outputs": [
        {
          "output_type": "stream",
          "name": "stdout",
          "text": [
            "Encontramos al estudiante de 25 años! Detenido el analisis.\n"
          ]
        }
      ]
    },
    {
      "cell_type": "code",
      "source": [
        "### 4. Si la edad es menor a 10, omite esa iteración con continue.\n",
        "\n",
        "for item in edades_lista:\n",
        "    if (item[1] < 10):\n",
        "        print(f\"La edad es menor que 10, el dato a imprimir es {item[1]}\")\n",
        "        continue\n"
      ],
      "metadata": {
        "colab": {
          "base_uri": "https://localhost:8080/"
        },
        "id": "X8mYnNnfM-Dk",
        "outputId": "d141d11b-44e0-4c47-def2-6b6d97271b54"
      },
      "execution_count": 25,
      "outputs": [
        {
          "output_type": "stream",
          "name": "stdout",
          "text": [
            "La edad es menor que 10, el dato a imprimir es 9\n"
          ]
        }
      ]
    },
    {
      "cell_type": "code",
      "source": [
        "### 5. Si la edad es 18 o mayor, imprime \"Adulto: [edad] años\".\n",
        "\n",
        "for item in edades_lista:\n",
        "    if (item[1] >= 18):\n",
        "        print(f\"Adulto {item[1]} años!\")\n",
        "        continue\n",
        "        break"
      ],
      "metadata": {
        "colab": {
          "base_uri": "https://localhost:8080/"
        },
        "id": "TnV2r29tObfD",
        "outputId": "c7f5739b-f0dd-4ed0-fc13-c9ac37fc534c"
      },
      "execution_count": 26,
      "outputs": [
        {
          "output_type": "stream",
          "name": "stdout",
          "text": [
            "Adulto 22 años!\n",
            "Adulto 30 años!\n",
            "Adulto 25 años!\n"
          ]
        }
      ]
    },
    {
      "cell_type": "code",
      "source": [
        "### 6. En cualquier otro caso, imprime \"Menor: [edad] años\".\n",
        "\n",
        "for item in edades_lista:\n",
        "    if (item[1] >= 18):\n",
        "        print(f\"Adulto {item[1]} años!\")\n",
        "    else:\n",
        "        print(f\"Menor {item[1]} años!\")\n",
        "        continue\n",
        "        break"
      ],
      "metadata": {
        "colab": {
          "base_uri": "https://localhost:8080/"
        },
        "id": "9zc7Sj7YPPFX",
        "outputId": "77dc11bf-c8f2-4596-dc07-08ec0d383545"
      },
      "execution_count": 27,
      "outputs": [
        {
          "output_type": "stream",
          "name": "stdout",
          "text": [
            "Menor 12 años!\n",
            "Menor 17 años!\n",
            "Menor 15 años!\n",
            "Adulto 22 años!\n",
            "Menor 9 años!\n",
            "Adulto 30 años!\n",
            "Adulto 25 años!\n"
          ]
        }
      ]
    },
    {
      "cell_type": "code",
      "source": [
        "#### segunda parte: Bucles while con nombres"
      ],
      "metadata": {
        "id": "xwu2nSV7Pw3K"
      },
      "execution_count": 28,
      "outputs": []
    },
    {
      "cell_type": "code",
      "source": [
        "### 1. Crea una lista de nombres: [\"Juan\", \"Pedro\", \"Jorge\", \"María\",\"Ana\"].\n",
        "\n",
        "nombres_lista = [\"Andrea\",\"Lorena\",\"Edwin\",\"Carlos\",\"Esteban\",\"Juan\",\"Salome\"]"
      ],
      "metadata": {
        "id": "zryXrZcsQFw1"
      },
      "execution_count": 29,
      "outputs": []
    },
    {
      "cell_type": "code",
      "source": [
        "### 2.Usa un bucle while para iterar sobre los nombres:\n",
        "\n",
        "nombres_lista = \"Andrea\",\"Lorena\",\"Edwin\",\"Carlos\",\"Esteban\",\"Juan\",\"Salome\"\n",
        "i = 0\n",
        "while i < len(nombres_lista):\n",
        "    print(nombres_lista[i])\n",
        "    i += 2"
      ],
      "metadata": {
        "colab": {
          "base_uri": "https://localhost:8080/"
        },
        "id": "7N1Uda93RWdT",
        "outputId": "e01a0f5f-68ba-4546-a8c8-4357282f9a68"
      },
      "execution_count": 30,
      "outputs": [
        {
          "output_type": "stream",
          "name": "stdout",
          "text": [
            "Andrea\n",
            "Edwin\n",
            "Esteban\n",
            "Salome\n"
          ]
        }
      ]
    },
    {
      "cell_type": "code",
      "source": [
        "### 3. Si el nombre es \"Ana\", imprime \"¡Ana está en la lista!\" y termina el bucle con break.\n",
        "\n",
        "for item in nombres_lista:\n",
        "    if (nombres_lista == \"Andrea\", \"Edwin\"):\n",
        "        print(f\"Andrea esta en la lista.\", \"Edwin esta en la lista.\")\n",
        "        break"
      ],
      "metadata": {
        "colab": {
          "base_uri": "https://localhost:8080/"
        },
        "id": "A5LzPYubR2q2",
        "outputId": "1ff99181-fd1c-490a-f0b4-3558bce44986"
      },
      "execution_count": 31,
      "outputs": [
        {
          "output_type": "stream",
          "name": "stdout",
          "text": [
            "Andrea esta en la lista. Edwin esta en la lista.\n"
          ]
        }
      ]
    },
    {
      "cell_type": "code",
      "source": [
        "### 4. Si el nombre empieza con \"J\", omite ese nombre con continue.\n",
        "\n",
        "for item in nombres_lista:\n",
        "    if (item[0] == \"E\"):\n",
        "        continue\n",
        "    else:\n",
        "        print(item)"
      ],
      "metadata": {
        "colab": {
          "base_uri": "https://localhost:8080/"
        },
        "id": "Q3EASLbpS0oR",
        "outputId": "0bef5e5e-da59-40f7-a122-dcb7178a4d0e"
      },
      "execution_count": 34,
      "outputs": [
        {
          "output_type": "stream",
          "name": "stdout",
          "text": [
            "Andrea\n",
            "Lorena\n",
            "Carlos\n",
            "Juan\n",
            "Salome\n"
          ]
        }
      ]
    }
  ]
}